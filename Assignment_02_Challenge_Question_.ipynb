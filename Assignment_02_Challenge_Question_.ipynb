{
  "nbformat": 4,
  "nbformat_minor": 0,
  "metadata": {
    "colab": {
      "provenance": [],
      "authorship_tag": "ABX9TyOAs1xtV7/TV7dvnQcxdDP/",
      "include_colab_link": true
    },
    "kernelspec": {
      "name": "python3",
      "display_name": "Python 3"
    },
    "language_info": {
      "name": "python"
    }
  },
  "cells": [
    {
      "cell_type": "markdown",
      "metadata": {
        "id": "view-in-github",
        "colab_type": "text"
      },
      "source": [
        "<a href=\"https://colab.research.google.com/github/arushi3838/Assignment2_Python/blob/main/Assignment_02_Challenge_Question_.ipynb\" target=\"_parent\"><img src=\"https://colab.research.google.com/assets/colab-badge.svg\" alt=\"Open In Colab\"/></a>"
      ]
    },
    {
      "cell_type": "markdown",
      "source": [
        "Write a python program to sort the list of heterogeneous data.\n",
        "\n",
        "e.g.\n",
        "L = [\"Ram\", 1, \"Shyam\", 2, \"Aman\", 3]\n",
        "print(L)\n",
        "L.sort()\n",
        "print(L)"
      ],
      "metadata": {
        "id": "Oy8gwwTh8j-L"
      }
    },
    {
      "cell_type": "code",
      "source": [
        "L = [\"Ram\", 1, \"Shyam\", 2, \"Aman\", 3]\n",
        "L2=[]\n",
        "L3=[]\n",
        "for i in range(len(L)):\n",
        "  if(type(L[i])==str):\n",
        "    L2.append(L[i])\n",
        "    L2.sort() \n",
        "  else:\n",
        "    L3.append(L[i])\n",
        "for i in range(len(L3)):\n",
        "  L3[i]=str(L3[i])\n",
        "L3.sort()\n",
        "L=L2+L3\n",
        "L.sort()\n",
        "print(\"The sorted list is :-\",L)"
      ],
      "metadata": {
        "colab": {
          "base_uri": "https://localhost:8080/"
        },
        "id": "cQC2SMbs808R",
        "outputId": "6f66e8b4-fe50-4a46-ec79-06e398f61ec6"
      },
      "execution_count": 18,
      "outputs": [
        {
          "output_type": "stream",
          "name": "stdout",
          "text": [
            "The sorted list is :- ['1', '2', '3', 'Aman', 'Ram', 'Shyam']\n"
          ]
        }
      ]
    }
  ]
}